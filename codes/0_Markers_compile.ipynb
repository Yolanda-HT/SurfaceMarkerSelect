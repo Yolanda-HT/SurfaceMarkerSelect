{
 "cells": [
  {
   "cell_type": "code",
   "execution_count": 3,
   "metadata": {},
   "outputs": [],
   "source": [
    "import pandas as pd\n",
    "import os"
   ]
  },
  {
   "cell_type": "code",
   "execution_count": 35,
   "metadata": {},
   "outputs": [],
   "source": [
    "out_dir = \"/\".join(os.getcwd().split(\"/\")[:-1]) + \"/2_compiled\"\n",
    "source_dir = wk_dir.replace(\"2_compiled\", \"0_surface_marker_source\")"
   ]
  },
  {
   "cell_type": "code",
   "execution_count": 40,
   "metadata": {},
   "outputs": [],
   "source": [
    "# Read input\n",
    "hs_bd = source_dir + \"/BD_human_CDs_fmt_GN.csv\"\n",
    "hs_bl = source_dir + \"/LEGENDSCREEN_HUMAN_fmt_GN.csv\"\n",
    "\n",
    "hs_bd_df = pd.read_csv(hs_bd)\n",
    "hs_bl_df = pd.read_csv(hs_bl)\n",
    "\n",
    "# BD marker genes\n",
    "hs_bd_gn = hs_bd_df['gene_name'].tolist() # Gene names\n",
    "hs_bd_gn_alt = [x for x in hs_bd_df['gene_synonym'] if str(x) != \"nan\"] # Synonyms\n",
    "hs_bd_gn_alt = \"|\".join(hs_bd_gn_alt).split(\"|\") # Split alternative synonyms\n",
    "hs_bd_gn_all = hs_bd_gn + hs_bd_gn_alt # Merge\n",
    "hs_bd_gn_all = list(set([str(x).upper() for x in hs_bd_gn_all]))\n",
    "\n",
    "# Biolegend marker genes\n",
    "hs_bl_gn = hs_bl_df['gene_name'].tolist() # Gene names\n",
    "hs_bl_gn_alt = [x for x in hs_bl_df['gene_synonym'] if str(x) != \"nan\"] # Synonyms\n",
    "hs_bl_gn_alt = \"|\".join(hs_bl_gn_alt).split(\"|\") # Split alternative synonyms\n",
    "hs_bl_gn_all = hs_bl_gn + hs_bl_gn_alt # Merge\n",
    "hs_bl_gn_all = list(set([str(x).upper() for x in hs_bl_gn_all]))\n",
    "\n",
    "# Merge both\n",
    "gn_all = list(set(hs_bl_gn_all + hs_bd_gn_all))\n",
    "gn_df = pd.DataFrame({\"gene_name\": gn_all})\n",
    "gn_df.to_csv(\"%s/HS_MARKERS.csv\"%out_dir, index=False)"
   ]
  },
  {
   "cell_type": "code",
   "execution_count": null,
   "metadata": {},
   "outputs": [],
   "source": []
  },
  {
   "cell_type": "code",
   "execution_count": null,
   "metadata": {},
   "outputs": [],
   "source": []
  }
 ],
 "metadata": {
  "kernelspec": {
   "display_name": "Python 3",
   "language": "python",
   "name": "python3"
  },
  "language_info": {
   "codemirror_mode": {
    "name": "ipython",
    "version": 3
   },
   "file_extension": ".py",
   "mimetype": "text/x-python",
   "name": "python",
   "nbconvert_exporter": "python",
   "pygments_lexer": "ipython3",
   "version": "3.6.8"
  }
 },
 "nbformat": 4,
 "nbformat_minor": 4
}
